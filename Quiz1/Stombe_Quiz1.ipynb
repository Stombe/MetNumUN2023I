{
  "nbformat": 4,
  "nbformat_minor": 0,
  "metadata": {
    "colab": {
      "provenance": [],
      "authorship_tag": "ABX9TyOEXC0jTMiKBRk7xvXq5lBc"
    },
    "kernelspec": {
      "name": "python3",
      "display_name": "Python 3"
    },
    "language_info": {
      "name": "python"
    }
  },
  "cells": [
    {
      "cell_type": "code",
      "execution_count": null,
      "metadata": {
        "id": "2jD4Wx7irC5Q"
      },
      "outputs": [],
      "source": [
        "def FizzBuzz(x):\n",
        "    if x % 3 == 0 and x % 5 == 0:\n",
        "        return \"FizzBuzz!\"\n",
        "    elif x % 3 == 0:\n",
        "        return \"Fizz!\"\n",
        "    elif x % 5 == 0:\n",
        "        return \"Buzz!\"\n",
        "    else:\n",
        "        return \"...\"\n",
        "    answer =\"\"\n",
        "    return answer"
      ]
    },
    {
      "cell_type": "code",
      "source": [
        "def FizzBuzzList(n):\n",
        "    if n <= 0:\n",
        "        return []\n",
        "    else:\n",
        "        return [\"FizzBuzz!\" if i % 15 == 0 else \"Fizz!\" if i % 3 == 0 else \"Buzz!\" if i % 5 == 0 else \"...\" for i in range(1, n+1)]\n",
        "\n",
        "    return ans"
      ],
      "metadata": {
        "id": "WHjCxys1rGmU"
      },
      "execution_count": null,
      "outputs": []
    },
    {
      "cell_type": "code",
      "source": [
        "import numpy as np\n",
        "\n",
        "def standarize(X):\n",
        "  X_standarized = (X - np.mean(X)) / np.std(X)\n",
        "  return X_standarized"
      ],
      "metadata": {
        "id": "6GjYeZgFrpNT"
      },
      "execution_count": null,
      "outputs": []
    },
    {
      "cell_type": "code",
      "source": [
        "import numpy as np\n",
        "\n",
        "def main_diagonal_matrix(A):\n",
        "  D = np.diag(np.diag(A))\n",
        "  return np.asarray(D, dtype=float)"
      ],
      "metadata": {
        "id": "uuOcBuuvrx3U"
      },
      "execution_count": null,
      "outputs": []
    }
  ]
}